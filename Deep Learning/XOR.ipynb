{
 "cells": [
  {
   "cell_type": "code",
   "execution_count": 1,
   "metadata": {},
   "outputs": [],
   "source": [
    "import numpy as np\n",
    "import pandas as pd\n",
    "import seaborn as sns\n",
    "import matplotlib.pyplot as plt\n",
    "import torch\n",
    "\n",
    "import torch.nn as nn\n",
    "import torch.optim as optim\n",
    "from torch.utils.data import Dataset, DataLoader\n",
    "\n",
    "from sklearn.preprocessing import StandardScaler    \n",
    "from sklearn.model_selection import train_test_split\n",
    "from sklearn.metrics import confusion_matrix, classification_report"
   ]
  },
  {
   "cell_type": "code",
   "execution_count": 2,
   "metadata": {},
   "outputs": [],
   "source": [
    "#generating 10k points \n",
    "np.random.seed(0)\n",
    "data = 2*np.random.uniform(size=(10000, 2)) - 1"
   ]
  },
  {
   "cell_type": "code",
   "execution_count": 3,
   "metadata": {},
   "outputs": [],
   "source": [
    "plt.rcParams['figure.figsize'] = 10, 8\n",
    "#point labelling function\n",
    "def point_labeller(a):\n",
    "  if(a[0]>0 and a[1]>0) or (a[0]< 0 and a[1]< 0):\n",
    "    return 1\n",
    "  elif(a[0]==0 and a[1]==0):\n",
    "    return -1\n",
    "  else:\n",
    "    return 0\n",
    "\n",
    "#list to hold labelled data\n",
    "labelled_data = []\n",
    "\n",
    "for i in range(len(data)):\n",
    "  k = list(data[i])\n",
    "  #third coordinate will be the label\n",
    "  labelled_data += [k + [point_labeller(k)]]"
   ]
  },
  {
   "cell_type": "code",
   "execution_count": 4,
   "metadata": {},
   "outputs": [],
   "source": [
    "data = pd.DataFrame(labelled_data)\n",
    "data.columns = ['X','Y','Label']"
   ]
  },
  {
   "cell_type": "code",
   "execution_count": 5,
   "metadata": {},
   "outputs": [],
   "source": [
    "X = data[['X','Y']]\n",
    "y = data[['Label']]\n",
    "X_train, X_test, y_train, y_test = train_test_split(X, y, test_size=0.3)"
   ]
  },
  {
   "cell_type": "code",
   "execution_count": 6,
   "metadata": {},
   "outputs": [],
   "source": [
    "X_valid,X_test, y_valid,y_test = train_test_split(X_test,y_test,test_size=0.5)"
   ]
  },
  {
   "cell_type": "code",
   "execution_count": 7,
   "metadata": {},
   "outputs": [],
   "source": [
    "#Normalize input\n",
    "scaler = StandardScaler()\n",
    "X_train = scaler.fit_transform(X_train)\n",
    "X_test = scaler.fit_transform(X_test)\n",
    "X_valid = scaler.fit_transform(X_valid)"
   ]
  },
  {
   "cell_type": "code",
   "execution_count": 8,
   "metadata": {},
   "outputs": [],
   "source": [
    "EPOCHS = 100\n",
    "BATCH = 16\n",
    "LR = 1e-3"
   ]
  },
  {
   "cell_type": "code",
   "execution_count": 9,
   "metadata": {},
   "outputs": [],
   "source": [
    "class MyDatatype(Dataset):\n",
    "    \n",
    "    def __init__(self, X_data, y_data):\n",
    "        self.X_data = X_data\n",
    "        self.y_data = y_data\n",
    "        \n",
    "    def __getitem__(self, index):\n",
    "        return self.X_data[index], self.y_data[index]\n",
    "        \n",
    "    def __len__ (self):\n",
    "        return len(self.X_data)\n"
   ]
  },
  {
   "cell_type": "code",
   "execution_count": 10,
   "metadata": {},
   "outputs": [],
   "source": [
    "train_data = MyDatatype(torch.Tensor(X_train), torch.Tensor(np.array(y_train)))\n",
    "test_data = MyDatatype(torch.Tensor(X_test), torch.Tensor(np.array(y_test)))\n",
    "valid_data = MyDatatype(torch.Tensor(X_valid), torch.Tensor(np.array(y_valid)))\n"
   ]
  },
  {
   "cell_type": "code",
   "execution_count": 11,
   "metadata": {},
   "outputs": [],
   "source": [
    "train_loader = DataLoader(dataset=train_data, batch_size=BATCH, shuffle=True,drop_last=True)\n",
    "test_loader = DataLoader(dataset=test_data, batch_size=BATCH,drop_last=True,shuffle=True)"
   ]
  },
  {
   "cell_type": "code",
   "execution_count": 12,
   "metadata": {},
   "outputs": [],
   "source": [
    "class NeuralNet(nn.Module):\n",
    "    def __init__(self):\n",
    "        super(NeuralNet, self).__init__()\n",
    "        self.layer_1 = nn.Linear(2, 64) \n",
    "        self.layer_2 = nn.Linear(64, 64)\n",
    "        self.layer_out = nn.Linear(64, 1) \n",
    "        \n",
    "        self.relu = nn.ReLU()\n",
    "        self.batchnorm1 = nn.BatchNorm1d(64)\n",
    "        self.batchnorm2 = nn.BatchNorm1d(64)\n",
    "        \n",
    "    def forward(self, inputs):\n",
    "        x = self.relu(self.layer_1(inputs))\n",
    "        x = self.batchnorm1(x)\n",
    "        x = self.relu(self.layer_2(x))\n",
    "        x = self.layer_out(x)\n",
    "        \n",
    "        return x"
   ]
  },
  {
   "cell_type": "code",
   "execution_count": 13,
   "metadata": {},
   "outputs": [
    {
     "name": "stdout",
     "output_type": "stream",
     "text": [
      "NeuralNet(\n",
      "  (layer_1): Linear(in_features=2, out_features=64, bias=True)\n",
      "  (layer_2): Linear(in_features=64, out_features=64, bias=True)\n",
      "  (layer_out): Linear(in_features=64, out_features=1, bias=True)\n",
      "  (relu): ReLU()\n",
      "  (batchnorm1): BatchNorm1d(64, eps=1e-05, momentum=0.1, affine=True, track_running_stats=True)\n",
      "  (batchnorm2): BatchNorm1d(64, eps=1e-05, momentum=0.1, affine=True, track_running_stats=True)\n",
      ")\n"
     ]
    }
   ],
   "source": [
    "device = torch.device(\"cuda:0\" if torch.cuda.is_available() else \"cpu\")\n",
    "model = NeuralNet()\n",
    "model.to(device)\n",
    "print(model)\n",
    "criterion = nn.BCEWithLogitsLoss()\n",
    "optimizer = optim.SGD(model.parameters(), lr=LR)"
   ]
  },
  {
   "cell_type": "code",
   "execution_count": 14,
   "metadata": {},
   "outputs": [],
   "source": [
    "def binary_acc(y_pred, y_test):\n",
    "    y_pred_tag = torch.round(torch.sigmoid(y_pred))\n",
    "\n",
    "    correct_results_sum = (y_pred_tag == y_test).sum().float()\n",
    "    acc = correct_results_sum/y_test.shape[0]\n",
    "    acc = torch.round(acc * 100)\n",
    "    \n",
    "    return acc"
   ]
  },
  {
   "cell_type": "code",
   "execution_count": 15,
   "metadata": {},
   "outputs": [
    {
     "name": "stdout",
     "output_type": "stream",
     "text": [
      "Epoch 10: | Train_Loss: 0.28001 | Train_Acc: 90.497\n",
      "          | Valid_Loss: 0.06214 | Valid_Acc: 19.094\n",
      "Epoch 20: | Train_Loss: 0.22556 | Train_Acc: 91.529\n",
      "          | Valid_Loss: 0.04728 | Valid_Acc: 19.460\n",
      "Epoch 30: | Train_Loss: 0.21754 | Train_Acc: 91.318\n",
      "          | Valid_Loss: 0.04331 | Valid_Acc: 19.638\n",
      "Epoch 40: | Train_Loss: 0.20228 | Train_Acc: 91.760\n",
      "          | Valid_Loss: 0.04788 | Valid_Acc: 19.252\n",
      "Epoch 50: | Train_Loss: 0.18896 | Train_Acc: 92.000\n",
      "          | Valid_Loss: 0.04207 | Valid_Acc: 19.558\n",
      "Epoch 60: | Train_Loss: 0.18452 | Train_Acc: 92.801\n",
      "          | Valid_Loss: 0.04078 | Valid_Acc: 19.854\n",
      "Epoch 70: | Train_Loss: 0.16771 | Train_Acc: 93.030\n",
      "          | Valid_Loss: 0.03908 | Valid_Acc: 19.627\n",
      "Epoch 80: | Train_Loss: 0.17017 | Train_Acc: 93.426\n",
      "          | Valid_Loss: 0.04039 | Valid_Acc: 19.815\n",
      "Epoch 90: | Train_Loss: 0.15511 | Train_Acc: 93.799\n",
      "          | Valid_Loss: 0.03563 | Valid_Acc: 19.835\n",
      "Epoch 100: | Train_Loss: 0.15059 | Train_Acc: 94.227\n",
      "          | Valid_Loss: 0.03244 | Valid_Acc: 20.005\n"
     ]
    }
   ],
   "source": [
    "model.train()\n",
    "stats = []\n",
    "for e in range(1, EPOCHS+1):\n",
    "    stat = []\n",
    "    epoch_loss = 0\n",
    "    epoch_acc = 0\n",
    "    for X_batch, y_batch in train_loader:\n",
    "        X_batch, y_batch = X_batch.to(device), y_batch.to(device)\n",
    "        optimizer.zero_grad()\n",
    "        y_pred = model(X_batch)\n",
    "        loss = criterion(y_pred, y_batch)\n",
    "        acc = binary_acc(y_pred, y_batch)\n",
    "        loss.backward()\n",
    "        optimizer.step()\n",
    "        epoch_loss += loss.item()\n",
    "        epoch_acc += acc.item()\n",
    "    if(e%10==0):\n",
    "        print(f'Epoch {e}: | Train_Loss: {epoch_loss/len(train_loader):.5f} | Train_Acc: {epoch_acc/len(train_loader):.3f}')\n",
    "    stat += [e,epoch_loss/len(train_loader),epoch_acc/len(train_loader)]    \n",
    "    epoch_loss = 0\n",
    "    epoch_acc = 0\n",
    "    for X_batch, y_batch in test_loader:\n",
    "        X_batch, y_batch = X_batch.to(device), y_batch.to(device)\n",
    "        with torch.no_grad():\n",
    "            y_pred = model(X_batch)\n",
    "        loss = criterion(y_pred, y_batch)\n",
    "        acc = binary_acc(y_pred, y_batch)\n",
    "        epoch_loss += loss.item()\n",
    "        epoch_acc += acc.item()\n",
    "    if(e%10==0):\n",
    "        print(f'          | Valid_Loss: {epoch_loss/len(train_loader):.5f} | Valid_Acc: {epoch_acc/len(train_loader):.3f}')\n",
    "    stat += [epoch_loss/len(train_loader),epoch_acc/len(train_loader)]\n",
    "    stats += [stat]    "
   ]
  },
  {
   "cell_type": "code",
   "execution_count": 16,
   "metadata": {},
   "outputs": [],
   "source": [
    "Stats = pd.DataFrame(columns=['Epoch','Train_Loss','Validation_Loss','Train_Accuracy','Validation_Accuracy'],data=stats)"
   ]
  },
  {
   "cell_type": "code",
   "execution_count": 17,
   "metadata": {},
   "outputs": [
    {
     "data": {
      "text/html": [
       "<div>\n",
       "<style scoped>\n",
       "    .dataframe tbody tr th:only-of-type {\n",
       "        vertical-align: middle;\n",
       "    }\n",
       "\n",
       "    .dataframe tbody tr th {\n",
       "        vertical-align: top;\n",
       "    }\n",
       "\n",
       "    .dataframe thead th {\n",
       "        text-align: right;\n",
       "    }\n",
       "</style>\n",
       "<table border=\"1\" class=\"dataframe\">\n",
       "  <thead>\n",
       "    <tr style=\"text-align: right;\">\n",
       "      <th></th>\n",
       "      <th>Epoch</th>\n",
       "      <th>Train_Loss</th>\n",
       "      <th>Validation_Loss</th>\n",
       "      <th>Train_Accuracy</th>\n",
       "      <th>Validation_Accuracy</th>\n",
       "    </tr>\n",
       "  </thead>\n",
       "  <tbody>\n",
       "    <tr>\n",
       "      <th>0</th>\n",
       "      <td>1</td>\n",
       "      <td>0.634133</td>\n",
       "      <td>67.164760</td>\n",
       "      <td>0.125978</td>\n",
       "      <td>17.947368</td>\n",
       "    </tr>\n",
       "    <tr>\n",
       "      <th>1</th>\n",
       "      <td>2</td>\n",
       "      <td>0.553856</td>\n",
       "      <td>88.050343</td>\n",
       "      <td>0.111113</td>\n",
       "      <td>19.048055</td>\n",
       "    </tr>\n",
       "    <tr>\n",
       "      <th>2</th>\n",
       "      <td>3</td>\n",
       "      <td>0.487533</td>\n",
       "      <td>89.471396</td>\n",
       "      <td>0.098421</td>\n",
       "      <td>18.919908</td>\n",
       "    </tr>\n",
       "    <tr>\n",
       "      <th>3</th>\n",
       "      <td>4</td>\n",
       "      <td>0.430560</td>\n",
       "      <td>90.016018</td>\n",
       "      <td>0.088314</td>\n",
       "      <td>18.931350</td>\n",
       "    </tr>\n",
       "    <tr>\n",
       "      <th>4</th>\n",
       "      <td>5</td>\n",
       "      <td>0.388911</td>\n",
       "      <td>89.823799</td>\n",
       "      <td>0.077873</td>\n",
       "      <td>19.288330</td>\n",
       "    </tr>\n",
       "    <tr>\n",
       "      <th>...</th>\n",
       "      <td>...</td>\n",
       "      <td>...</td>\n",
       "      <td>...</td>\n",
       "      <td>...</td>\n",
       "      <td>...</td>\n",
       "    </tr>\n",
       "    <tr>\n",
       "      <th>95</th>\n",
       "      <td>96</td>\n",
       "      <td>0.162143</td>\n",
       "      <td>93.306636</td>\n",
       "      <td>0.033406</td>\n",
       "      <td>19.981693</td>\n",
       "    </tr>\n",
       "    <tr>\n",
       "      <th>96</th>\n",
       "      <td>97</td>\n",
       "      <td>0.159066</td>\n",
       "      <td>93.839817</td>\n",
       "      <td>0.034593</td>\n",
       "      <td>19.887872</td>\n",
       "    </tr>\n",
       "    <tr>\n",
       "      <th>97</th>\n",
       "      <td>98</td>\n",
       "      <td>0.159433</td>\n",
       "      <td>93.334096</td>\n",
       "      <td>0.035982</td>\n",
       "      <td>19.743707</td>\n",
       "    </tr>\n",
       "    <tr>\n",
       "      <th>98</th>\n",
       "      <td>99</td>\n",
       "      <td>0.154083</td>\n",
       "      <td>93.569794</td>\n",
       "      <td>0.034987</td>\n",
       "      <td>19.812357</td>\n",
       "    </tr>\n",
       "    <tr>\n",
       "      <th>99</th>\n",
       "      <td>100</td>\n",
       "      <td>0.150593</td>\n",
       "      <td>94.226545</td>\n",
       "      <td>0.032435</td>\n",
       "      <td>20.004577</td>\n",
       "    </tr>\n",
       "  </tbody>\n",
       "</table>\n",
       "<p>100 rows × 5 columns</p>\n",
       "</div>"
      ],
      "text/plain": [
       "    Epoch  Train_Loss  Validation_Loss  Train_Accuracy  Validation_Accuracy\n",
       "0       1    0.634133        67.164760        0.125978            17.947368\n",
       "1       2    0.553856        88.050343        0.111113            19.048055\n",
       "2       3    0.487533        89.471396        0.098421            18.919908\n",
       "3       4    0.430560        90.016018        0.088314            18.931350\n",
       "4       5    0.388911        89.823799        0.077873            19.288330\n",
       "..    ...         ...              ...             ...                  ...\n",
       "95     96    0.162143        93.306636        0.033406            19.981693\n",
       "96     97    0.159066        93.839817        0.034593            19.887872\n",
       "97     98    0.159433        93.334096        0.035982            19.743707\n",
       "98     99    0.154083        93.569794        0.034987            19.812357\n",
       "99    100    0.150593        94.226545        0.032435            20.004577\n",
       "\n",
       "[100 rows x 5 columns]"
      ]
     },
     "metadata": {},
     "output_type": "display_data"
    }
   ],
   "source": [
    "display(Stats)"
   ]
  },
  {
   "cell_type": "code",
   "execution_count": null,
   "metadata": {},
   "outputs": [],
   "source": []
  }
 ],
 "metadata": {
  "interpreter": {
   "hash": "fe06f96167c4fc64a78c238d993189072a4e72b444216e36203d6f96126eaf0a"
  },
  "kernelspec": {
   "display_name": "Python 3.9.0 64-bit",
   "name": "python3"
  },
  "language_info": {
   "codemirror_mode": {
    "name": "ipython",
    "version": 3
   },
   "file_extension": ".py",
   "mimetype": "text/x-python",
   "name": "python",
   "nbconvert_exporter": "python",
   "pygments_lexer": "ipython3",
   "version": "3.9.0"
  },
  "orig_nbformat": 4
 },
 "nbformat": 4,
 "nbformat_minor": 2
}
